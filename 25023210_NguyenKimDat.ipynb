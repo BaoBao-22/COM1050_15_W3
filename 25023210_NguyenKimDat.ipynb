{
 "cells": [
  {
   "cell_type": "markdown",
   "id": "1e44042f-a671-4f61-9dd1-cca759118c24",
   "metadata": {},
   "source": [
    "W3A2\n",
    "Hoán đổi hai số không sd biến tạm thời.(VD: 16)\n",
    "\n",
    "Sử dụng phép toán XOR trên bit để hoán đổi giá trị của hai biến.(VD: 9)\n",
    "\n",
    "Đọc và tự tìm hiểu các phép toán trên bit: AND, OR, XOR\n",
    "AND: cả 2 đáp án đều đúng\n",
    "OR: 1 trong 2 đáp án là đúng\n",
    "XOR: + Nếu cả 2 cùng đúng hoặc cùng sai -> kết quả là sai.\n",
    "     + Đúng khi khác nhau."
   ]
  },
  {
   "cell_type": "code",
   "execution_count": 16,
   "id": "333565d1-0872-485f-8f49-af585efce553",
   "metadata": {},
   "outputs": [
    {
     "name": "stdout",
     "output_type": "stream",
     "text": [
      "7 5\n"
     ]
    }
   ],
   "source": [
    "a = 5\n",
    "b = 7\n",
    "a, b = b, a\n",
    "print(a,b)"
   ]
  },
  {
   "cell_type": "code",
   "execution_count": 13,
   "id": "7a17b7ad-6732-46ae-b60f-672561dda880",
   "metadata": {},
   "outputs": [
    {
     "name": "stdin",
     "output_type": "stream",
     "text": [
      " 3 4\n"
     ]
    },
    {
     "name": "stdout",
     "output_type": "stream",
     "text": [
      "4 3\n"
     ]
    }
   ],
   "source": [
    "a, b = map(int, input().split())\n",
    "a = a ^ b\n",
    "b = a ^ b\n",
    "a = a ^ b\n",
    "print(a, b)"
   ]
  },
  {
   "cell_type": "code",
   "execution_count": null,
   "id": "fadf3b69-ab2c-4223-b07e-74151b9417f5",
   "metadata": {},
   "outputs": [],
   "source": [
    "#W3A3\n"
   ]
  },
  {
   "cell_type": "code",
   "execution_count": 18,
   "id": "8f88de4d-4e5d-4296-966c-f0972907fa67",
   "metadata": {},
   "outputs": [
    {
     "name": "stdin",
     "output_type": "stream",
     "text": [
      "Nhập 2 số m, n: 5 4\n"
     ]
    },
    {
     "name": "stdout",
     "output_type": "stream",
     "text": [
      "Chia m cho n, kết quả thu được được làm tròn xuống là:  1\n"
     ]
    }
   ],
   "source": [
    "#W3A4\n",
    "m, n = map(float, input(\"Nhập 2 số m, n:\").split())\n",
    "a = m / n\n",
    "\n",
    "print(\"Chia m cho n, kết quả thu được được làm tròn xuống là: \", int(a))"
   ]
  },
  {
   "cell_type": "code",
   "execution_count": 17,
   "id": "d8db5e33-651c-4164-89a1-f08595f76d87",
   "metadata": {},
   "outputs": [
    {
     "name": "stdin",
     "output_type": "stream",
     "text": [
      "Nhập 2 số m, n: 5 4\n"
     ]
    },
    {
     "name": "stdout",
     "output_type": "stream",
     "text": [
      "Chia m cho n, kết quả thu được được làm tròn lên là:  2\n"
     ]
    }
   ],
   "source": [
    "#W3A5\n",
    "m, n = map(float, input(\"Nhập 2 số m, n:\").split())\n",
    "a = m / n\n",
    "\n",
    "print(\"Chia m cho n, kết quả thu được được làm tròn lên là: \", int(a + 1))"
   ]
  },
  {
   "cell_type": "code",
   "execution_count": null,
   "id": "a03945b7-d4e2-425c-b8ed-8542a28249df",
   "metadata": {},
   "outputs": [],
   "source": []
  },
  {
   "cell_type": "code",
   "execution_count": null,
   "id": "53e389cb-d44e-4c03-87e6-883194f60193",
   "metadata": {},
   "outputs": [],
   "source": []
  }
 ],
 "metadata": {
  "kernelspec": {
   "display_name": "Python 3 (ipykernel)",
   "language": "python",
   "name": "python3"
  },
  "language_info": {
   "codemirror_mode": {
    "name": "ipython",
    "version": 3
   },
   "file_extension": ".py",
   "mimetype": "text/x-python",
   "name": "python",
   "nbconvert_exporter": "python",
   "pygments_lexer": "ipython3",
   "version": "3.13.5"
  }
 },
 "nbformat": 4,
 "nbformat_minor": 5
}
