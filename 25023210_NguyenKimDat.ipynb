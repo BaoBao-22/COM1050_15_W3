{
 "cells": [
  {
   "cell_type": "raw",
   "id": "df3dcb0b-2201-44f5-8f01-ab25b3b62c1a",
   "metadata": {},
   "source": [
    "W3A2\n",
    "Hoán đổi hai số không sd biến tạm thời. (Bài đầu tiên)\n",
    "\n",
    "Sử dụng phép toán XOR trên bit để hoán đổi giá trị của hai biến.(Bài thứ 2)\n",
    "\n",
    "Đọc và tự tìm hiểu các phép toán trên bit: AND, OR, XOR\n",
    "AND: cả 2 đáp án đều đúng\n",
    "OR: 1 trong 2 đáp án là đúng\n",
    "XOR: \n",
    "+ Nếu cả 2 cùng đúng hoặc cùng sai -> kết quả là sai.\n",
    "+ Đúng khi khác nhau."
   ]
  },
  {
   "cell_type": "code",
   "execution_count": 16,
   "id": "333565d1-0872-485f-8f49-af585efce553",
   "metadata": {},
   "outputs": [
    {
     "name": "stdout",
     "output_type": "stream",
     "text": [
      "7 5\n"
     ]
    }
   ],
   "source": [
    "a = 5\n",
    "b = 7\n",
    "a, b = b, a\n",
    "print(a,b)"
   ]
  },
  {
   "cell_type": "code",
   "execution_count": 13,
   "id": "7a17b7ad-6732-46ae-b60f-672561dda880",
   "metadata": {},
   "outputs": [
    {
     "name": "stdin",
     "output_type": "stream",
     "text": [
      " 3 4\n"
     ]
    },
    {
     "name": "stdout",
     "output_type": "stream",
     "text": [
      "4 3\n"
     ]
    }
   ],
   "source": [
    "a, b = map(int, input().split())\n",
    "a = a ^ b\n",
    "b = a ^ b\n",
    "a = a ^ b\n",
    "print(a, b)"
   ]
  },
  {
   "cell_type": "markdown",
   "id": "5a1479c2-689d-4b20-bb96-5b73a9ba2468",
   "metadata": {},
   "source": [
    "#W3A3\n",
    "(Giải thích)\n",
    "Bitwise(Hệ nhị phân)là một hệ đếm dùng hai ký tự để biểu đạt một giá trị số, \n",
    "bằng tổng số các lũy thừa của 2. Hai ký tự đó thường là 0 và 1; \n",
    "chúng thường được dùng để biểu đạt hai giá trị hiệu điện thế tương ứng \n",
    "(có hiệu điện thế, hoặc hiệu điện thế cao là 1 và không có, hoặc thấp là 0).\n"
   ]
  },
  {
   "cell_type": "code",
   "execution_count": null,
   "id": "2ce5907b-2cbc-4045-958d-5953fc2a14f8",
   "metadata": {},
   "outputs": [],
   "source": [
    "#W3A3\n"
   ]
  },
  {
   "cell_type": "code",
   "execution_count": 18,
   "id": "8f88de4d-4e5d-4296-966c-f0972907fa67",
   "metadata": {},
   "outputs": [
    {
     "name": "stdin",
     "output_type": "stream",
     "text": [
      "Nhập 2 số m, n: 5 4\n"
     ]
    },
    {
     "name": "stdout",
     "output_type": "stream",
     "text": [
      "Chia m cho n, kết quả thu được được làm tròn xuống là:  1\n"
     ]
    }
   ],
   "source": [
    "#W3A4\n",
    "m, n = map(float, input(\"Nhập 2 số m, n:\").split())\n",
    "a = m / n\n",
    "\n",
    "print(\"Chia m cho n, kết quả thu được được làm tròn xuống là: \", int(a))"
   ]
  },
  {
   "cell_type": "code",
   "execution_count": 17,
   "id": "d8db5e33-651c-4164-89a1-f08595f76d87",
   "metadata": {},
   "outputs": [
    {
     "name": "stdin",
     "output_type": "stream",
     "text": [
      "Nhập 2 số m, n: 5 4\n"
     ]
    },
    {
     "name": "stdout",
     "output_type": "stream",
     "text": [
      "Chia m cho n, kết quả thu được được làm tròn lên là:  2\n"
     ]
    }
   ],
   "source": [
    "#W3A5\n",
    "m, n = map(float, input(\"Nhập 2 số m, n:\").split())\n",
    "a = m / n\n",
    "\n",
    "print(\"Chia m cho n, kết quả thu được được làm tròn lên là: \", int(a + 1))"
   ]
  },
  {
   "cell_type": "code",
   "execution_count": 6,
   "id": "a03945b7-d4e2-425c-b8ed-8542a28249df",
   "metadata": {},
   "outputs": [
    {
     "name": "stdin",
     "output_type": "stream",
     "text": [
      "Nhập 1 số bất kì: 3\n"
     ]
    },
    {
     "name": "stdout",
     "output_type": "stream",
     "text": [
      "Odd\n"
     ]
    }
   ],
   "source": [
    "#W3A6\n",
    "n = int(input(\"Nhập 1 số bất kì:\"))\n",
    "\n",
    "if n % 2 == 0:\n",
    "    print(\"Even\")\n",
    "else:\n",
    "    print(\"Odd\")"
   ]
  },
  {
   "cell_type": "code",
   "execution_count": 8,
   "id": "53e389cb-d44e-4c03-87e6-883194f60193",
   "metadata": {},
   "outputs": [
    {
     "name": "stdin",
     "output_type": "stream",
     "text": [
      "Nhập số a:  -3\n",
      "Nhập số b:  0\n"
     ]
    },
    {
     "name": "stdout",
     "output_type": "stream",
     "text": [
      "No\n"
     ]
    }
   ],
   "source": [
    "#W3A7\n",
    "a = int(input(\"Nhập số a: \"))\n",
    "b = int(input(\"Nhập số b: \"))\n",
    "a\n",
    "if a < 0 and b < 0 :\n",
    "    print(\"Yes\")\n",
    "else:\n",
    "    print(\"No\")"
   ]
  },
  {
   "cell_type": "code",
   "execution_count": 13,
   "id": "b5ca4bd9-fc85-4abb-9df9-29958525a4fd",
   "metadata": {},
   "outputs": [
    {
     "name": "stdin",
     "output_type": "stream",
     "text": [
      "Nhập chuỗi chữ cái thường trong a:  abca\n",
      "Nhập chuỗi chữ cái thường trong b:  abcdfe\n"
     ]
    },
    {
     "name": "stdout",
     "output_type": "stream",
     "text": [
      "False\n"
     ]
    }
   ],
   "source": [
    "#W3A7\n",
    "a = str(input(\"Nhập chuỗi chữ cái thường trong a: \"))\n",
    "b = str(input(\"Nhập chuỗi chữ cái thường trong b: \"))\n",
    "print(len(a) > len(b))"
   ]
  },
  {
   "cell_type": "code",
   "execution_count": 19,
   "id": "9038bf0b-a454-4591-8ec5-2e3f6d006c80",
   "metadata": {},
   "outputs": [
    {
     "name": "stdin",
     "output_type": "stream",
     "text": [
      "Nhập 3 cạnh của tam giác lần lượt là:  3 4 5\n"
     ]
    },
    {
     "name": "stdout",
     "output_type": "stream",
     "text": [
      "Yes\n"
     ]
    }
   ],
   "source": [
    "#W3A9\n",
    "a, b, c = map(int, input(\"Nhập 3 cạnh của tam giác lần lượt là: \").split())\n",
    "\n",
    "if a + b > c and a + c > b and c + b > a:\n",
    "    print(\"Yes\")\n",
    "else:\n",
    "    print(\"No\")"
   ]
  },
  {
   "cell_type": "code",
   "execution_count": 20,
   "id": "4235f724-a845-4943-a28a-d0a0493f28ea",
   "metadata": {},
   "outputs": [
    {
     "name": "stdin",
     "output_type": "stream",
     "text": [
      "Nhập 4 số tự nhiên:  1 2 3 4\n"
     ]
    },
    {
     "name": "stdout",
     "output_type": "stream",
     "text": [
      "4\n"
     ]
    }
   ],
   "source": [
    "#W3A10\n",
    "lst = list(map(int, input(\"Nhập 4 số tự nhiên: \").split()))\n",
    "v = max(lst)\n",
    "print(v)"
   ]
  },
  {
   "cell_type": "code",
   "execution_count": 21,
   "id": "2a80f354-3999-4aa1-becd-220fcd043d31",
   "metadata": {},
   "outputs": [
    {
     "name": "stdin",
     "output_type": "stream",
     "text": [
      "Nhập 3 cạnh của tam giác lần lượt là:  3 3 3\n"
     ]
    },
    {
     "name": "stdout",
     "output_type": "stream",
     "text": [
      "Tam giác đều\n"
     ]
    }
   ],
   "source": [
    "#W3A11\n",
    "a, b, c = map(int, input(\"Nhập 3 cạnh của tam giác lần lượt là: \").split())\n",
    "\n",
    "if a + b > c and a + c > b and c + b > a:\n",
    "    if a == b == c:\n",
    "        print(\"Tam giác đều\")\n",
    "    elif a == b or a == c  or b == c:\n",
    "        print(\"Tam giác cân\")\n",
    "    else:\n",
    "        print(\"Tam giác thường\")\n",
    "else:   \n",
    "    print(\"Không phải tam giác\")"
   ]
  },
  {
   "cell_type": "code",
   "execution_count": null,
   "id": "f240f3b9-45b7-4ced-830e-1b45f1036eae",
   "metadata": {},
   "outputs": [],
   "source": [
    "#W3A12\n",
    "n = int(input(\"Nhập số năm: \"))\n",
    "if n % 4 == 0 and n % 100 != 0 or n % 400 == 0:\n",
    "    print(\"Yes\")\n",
    "else:\n",
    "    print(\"No\")\n",
    "    "
   ]
  },
  {
   "cell_type": "code",
   "execution_count": null,
   "id": "ee994845-6f68-4cb4-a494-90860c68440e",
   "metadata": {},
   "outputs": [],
   "source": [
    "#W3A14\n",
    "a, b = map(float, input(\"Nhập 2 số thực a và b lần lượt là: \").split())\n",
    "print(\"Phương trình ax + b = 0 có nghiệm là:\")\n",
    "\n",
    "if a == 0 and b == 0:\n",
    "    print(\"Phương trình có vô số nghiệm\")\n",
    "elif a == 0 and b !=0:\n",
    "    print(\"Phương trình vô nghiệm\")\n",
    "else:\n",
    "    x = - b / a\n",
    "    print(\"Nghiệm phương trình là: \",x)"
   ]
  },
  {
   "cell_type": "code",
   "execution_count": null,
   "id": "80513131-8400-4a40-8245-86547da62ce1",
   "metadata": {},
   "outputs": [],
   "source": [
    "#W3A15\n",
    "n = float(input(\"Nhập số điểm: \"))\n",
    "\n",
    "if n > 10 or n < 0:\n",
    "    print(\"Số điểm không hợp lệ!\")\n",
    "elif n >= 8.0:\n",
    "    print(n, \" = Giỏi\")\n",
    "elif n >= 6.5:\n",
    "    print(n, \" = Khá\")\n",
    "elif n >= 5.0:\n",
    "    print(n, \" = Trung bình\")\n",
    "elif n < 5.0:\n",
    "    print(n, ' = Yếu')\n"
   ]
  }
 ],
 "metadata": {
  "kernelspec": {
   "display_name": "Python 3 (ipykernel)",
   "language": "python",
   "name": "python3"
  },
  "language_info": {
   "codemirror_mode": {
    "name": "ipython",
    "version": 3
   },
   "file_extension": ".py",
   "mimetype": "text/x-python",
   "name": "python",
   "nbconvert_exporter": "python",
   "pygments_lexer": "ipython3",
   "version": "3.13.5"
  }
 },
 "nbformat": 4,
 "nbformat_minor": 5
}
