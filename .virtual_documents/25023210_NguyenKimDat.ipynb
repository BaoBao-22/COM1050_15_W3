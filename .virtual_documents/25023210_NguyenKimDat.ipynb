


a = 5
b = 7
a, b = b, a
print(a,b)


a, b = map(int, input().split())
a = a ^ b
b = a ^ b
a = a ^ b
print(a, b)








#W3A4
m, n = map(float, input("Nhập 2 số m, n:").split())
a = m / n

print("Chia m cho n, kết quả thu được được làm tròn xuống là: ", int(a))


#W3A5
m, n = map(float, input("Nhập 2 số m, n:").split())
a = m / n

print("Chia m cho n, kết quả thu được được làm tròn lên là: ", int(a + 1))






